{
 "cells": [
  {
   "cell_type": "markdown",
   "metadata": {},
   "source": [
    "# Helper tools\n",
    "\n",
    "> These are tools that will assist us in class."
   ]
  },
  {
   "cell_type": "code",
   "execution_count": null,
   "metadata": {},
   "outputs": [],
   "source": [
    "#| default_exp helper"
   ]
  },
  {
   "cell_type": "code",
   "execution_count": null,
   "metadata": {},
   "outputs": [],
   "source": [
    "#| hide\n",
    "from nbdev.showdoc import *"
   ]
  },
  {
   "cell_type": "code",
   "execution_count": null,
   "metadata": {},
   "outputs": [],
   "source": [
    "#| export\n",
    "url = 'https://refugeelab.ca/wp-content/uploads/2020/08/2019_-RPD_-Data.xlsx'"
   ]
  },
  {
   "cell_type": "code",
   "execution_count": null,
   "metadata": {},
   "outputs": [],
   "source": [
    "#| export\n",
    "class Helper:\n",
    "    \"This class contains some information that will help us\"\n",
    "    def __init__(self): \n",
    "        self.url = 'https://refugeelab.ca/wp-content/uploads/2020/08/2019_-RPD_-Data.xlsx' # Identifies a useful URL\n",
    "    def __str__(self) : return f'Nice job! You loaded the class application. In the next cell, call the \"name\" function. Hint: XXX.name()'\n",
    "    __repr__ = __str__\n",
    "    def name(self):\n",
    "        person_name = input('Enter your name: ')\n",
    "        print(f'\\nHi {person_name}, you are doing great!')\n",
    "        print(f'The purpose of this library is to give you easy access to information when you need it.')\n",
    "        print(f'Type in XXX.url into the next cell')"
   ]
  },
  {
   "cell_type": "code",
   "execution_count": null,
   "metadata": {},
   "outputs": [],
   "source": [
    "help_me = Helper()"
   ]
  },
  {
   "cell_type": "code",
   "execution_count": null,
   "metadata": {},
   "outputs": [
    {
     "data": {
      "text/plain": [
       "Nice job! You loaded the class application. In the next cell, call the \"name\" function. Hint: XXX.name()"
      ]
     },
     "execution_count": null,
     "metadata": {},
     "output_type": "execute_result"
    }
   ],
   "source": [
    "help_me"
   ]
  },
  {
   "cell_type": "code",
   "execution_count": null,
   "metadata": {},
   "outputs": [
    {
     "name": "stdin",
     "output_type": "stream",
     "text": [
      "Enter your name:  Simon\n"
     ]
    },
    {
     "name": "stdout",
     "output_type": "stream",
     "text": [
      "\n",
      "Hi Simon, you are doing great!\n",
      "The purpose of this library is to give you easy access to information when you need it.\n",
      "Type in XXX.url into the next cell\n"
     ]
    }
   ],
   "source": [
    "help_me.name()"
   ]
  },
  {
   "cell_type": "code",
   "execution_count": null,
   "metadata": {},
   "outputs": [
    {
     "data": {
      "text/plain": [
       "'https://refugeelab.ca/wp-content/uploads/2020/08/2019_-RPD_-Data.xlsx'"
      ]
     },
     "execution_count": null,
     "metadata": {},
     "output_type": "execute_result"
    }
   ],
   "source": [
    "help_me.url"
   ]
  },
  {
   "cell_type": "code",
   "execution_count": null,
   "metadata": {},
   "outputs": [],
   "source": [
    "#| hide\n",
    "import nbdev; nbdev.nbdev_export()"
   ]
  }
 ],
 "metadata": {
  "kernelspec": {
   "display_name": "Python 3 (ipykernel)",
   "language": "python",
   "name": "python3"
  }
 },
 "nbformat": 4,
 "nbformat_minor": 4
}
