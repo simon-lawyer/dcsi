{
 "cells": [
  {
   "cell_type": "code",
   "execution_count": null,
   "id": "4e561225-029c-4904-b806-67cc8e5902dc",
   "metadata": {},
   "outputs": [],
   "source": [
    "pip install cards_deck"
   ]
  },
  {
   "cell_type": "code",
   "execution_count": null,
   "id": "1c8dad58-6406-41a8-be58-05201c330611",
   "metadata": {},
   "outputs": [],
   "source": [
    "import cards_deck"
   ]
  },
  {
   "cell_type": "code",
   "execution_count": null,
   "id": "c4808615-f666-4261-9b65-0b41f5d379df",
   "metadata": {},
   "outputs": [],
   "source": [
    "dir(cards_deck)"
   ]
  },
  {
   "cell_type": "code",
   "execution_count": null,
   "id": "99f3d970-f83d-47b9-98f3-e86552bf8183",
   "metadata": {},
   "outputs": [],
   "source": [
    "cards_deck"
   ]
  },
  {
   "cell_type": "code",
   "execution_count": null,
   "id": "16a2a9c2-fcd2-41db-a268-029eec1fc4f4",
   "metadata": {},
   "outputs": [],
   "source": [
    "from cards_deck.deck import *"
   ]
  },
  {
   "cell_type": "code",
   "execution_count": null,
   "id": "ca488991-5a54-42fa-a89d-4fd586997fc0",
   "metadata": {},
   "outputs": [],
   "source": [
    "dir(cards_deck)"
   ]
  },
  {
   "cell_type": "code",
   "execution_count": null,
   "id": "f2ad4177-faf4-4a29-b5d6-fcbc43d75f3c",
   "metadata": {},
   "outputs": [],
   "source": [
    "cards_deck.deck"
   ]
  },
  {
   "cell_type": "code",
   "execution_count": null,
   "id": "f3e94cea-e486-47c5-9e8e-6001c8427d25",
   "metadata": {},
   "outputs": [],
   "source": [
    "from cards_deck.deck import Deck"
   ]
  },
  {
   "cell_type": "code",
   "execution_count": null,
   "id": "7ba6843e-0361-4e54-89b0-872bdb15adfa",
   "metadata": {},
   "outputs": [],
   "source": [
    "d = Deck()"
   ]
  },
  {
   "cell_type": "code",
   "execution_count": null,
   "id": "47231133-3ced-4fba-8aef-aa6da7f8bed4",
   "metadata": {},
   "outputs": [],
   "source": [
    "dir(d)"
   ]
  },
  {
   "cell_type": "code",
   "execution_count": null,
   "id": "12224974-45d4-4e7f-8437-421ee3aca505",
   "metadata": {},
   "outputs": [],
   "source": [
    "print(d)"
   ]
  }
 ],
 "metadata": {
  "kernelspec": {
   "display_name": "Python 3 (ipykernel)",
   "language": "python",
   "name": "python3"
  }
 },
 "nbformat": 4,
 "nbformat_minor": 5
}
